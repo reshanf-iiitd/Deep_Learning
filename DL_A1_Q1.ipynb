{
  "nbformat": 4,
  "nbformat_minor": 0,
  "metadata": {
    "colab": {
      "name": "DL_A1_Q1",
      "provenance": [],
      "collapsed_sections": []
    },
    "kernelspec": {
      "name": "python3",
      "display_name": "Python 3"
    }
  },
  "cells": [
    {
      "cell_type": "code",
      "metadata": {
        "id": "d_yb4F-KhLNr"
      },
      "source": [
        "import numpy as np\r\n",
        "import matplotlib.pyplot as plt\r\n",
        "import seaborn as sns\r\n",
        "\r\n",
        "\r\n",
        "X=np.array([[0,0],\r\n",
        "            [0,1],\r\n",
        "            [1,0],\r\n",
        "            [1,1]])\r\n",
        "\r\n",
        "AND=np.array([0,0,0,1])\r\n",
        "OR=np.array([0,1,1,1])\r\n",
        "XOR=np.array([1,0,0,1])"
      ],
      "execution_count": null,
      "outputs": []
    },
    {
      "cell_type": "code",
      "metadata": {
        "id": "T5NvCLfviEKa"
      },
      "source": [
        "def perceptron(x,y,w=np.array([1,1]),T=0.5,lr=0.1,epochs=5):  \r\n",
        "  W=[]\r\n",
        "  Y=[]\r\n",
        "  for j in range(epochs):\r\n",
        "   W=np.append(W,w)\r\n",
        "   print('epoch',j+1)\r\n",
        "   print('Input  ','Y_Predectid','Y_Actual','Error')\r\n",
        "   \r\n",
        "   for x_i,y_i in zip(x,y):     \r\n",
        "     if (w.T@x_i) - T > 0:\r\n",
        "       y_pred=1\r\n",
        "     else:\r\n",
        "       y_pred=0 \r\n",
        "\r\n",
        "     error=y_i-y_pred\r\n",
        "     print(x_i,' '*(len('Y_Predectid')-5),y_pred,' '*(len('Y_Actual')),y_i,' '*(len('Error')),abs(error))\r\n",
        "     w=  w  +   lr*error\r\n",
        "     Y=np.append(Y,y_pred)\r\n",
        "  return W.reshape(epochs,2),Y.reshape(epochs,4)"
      ],
      "execution_count": null,
      "outputs": []
    },
    {
      "cell_type": "code",
      "metadata": {
        "id": "qPyu5qn4xUOm"
      },
      "source": [
        "def plot_data(inputs,targets,weights,T):\r\n",
        "    plt.figure(figsize=(5,3))\r\n",
        "    plt.grid(True)\r\n",
        "\r\n",
        "    for input,target in zip(inputs,targets):\r\n",
        "        plt.plot(input[0],input[1],'ro' if (target == 1.0) else 'bo')\r\n",
        "\r\n",
        "    for i in np.linspace(np.amin(inputs[:,:1]),np.amax(inputs[:,:1])):\r\n",
        "        slope = -(weights[0]/weights[1])  \r\n",
        "        intercept = (T/weights[1])\r\n",
        "\r\n",
        "        y = (slope*i) + intercept\r\n",
        "        plt.plot(i, y,'ko')"
      ],
      "execution_count": null,
      "outputs": []
    },
    {
      "cell_type": "code",
      "metadata": {
        "colab": {
          "base_uri": "https://localhost:8080/"
        },
        "id": "_qApyiBtk6R8",
        "outputId": "97205ec4-4440-4b39-a4d2-4033fc43c0bd"
      },
      "source": [
        "W_and,y_and=perceptron(X,AND,T=.5)"
      ],
      "execution_count": null,
      "outputs": [
        {
          "output_type": "stream",
          "text": [
            "epoch 1\n",
            "Input   Y_Predectid Y_Actual Error\n",
            "[0 0]        0          0       0\n",
            "[0 1]        1          0       1\n",
            "[1 0]        1          0       1\n",
            "[1 1]        1          1       0\n",
            "epoch 2\n",
            "Input   Y_Predectid Y_Actual Error\n",
            "[0 0]        0          0       0\n",
            "[0 1]        1          0       1\n",
            "[1 0]        1          0       1\n",
            "[1 1]        1          1       0\n",
            "epoch 3\n",
            "Input   Y_Predectid Y_Actual Error\n",
            "[0 0]        0          0       0\n",
            "[0 1]        1          0       1\n",
            "[1 0]        1          0       1\n",
            "[1 1]        1          1       0\n",
            "epoch 4\n",
            "Input   Y_Predectid Y_Actual Error\n",
            "[0 0]        0          0       0\n",
            "[0 1]        0          0       0\n",
            "[1 0]        0          0       0\n",
            "[1 1]        1          1       0\n",
            "epoch 5\n",
            "Input   Y_Predectid Y_Actual Error\n",
            "[0 0]        0          0       0\n",
            "[0 1]        0          0       0\n",
            "[1 0]        0          0       0\n",
            "[1 1]        1          1       0\n"
          ],
          "name": "stdout"
        }
      ]
    },
    {
      "cell_type": "markdown",
      "metadata": {
        "id": "mtg90lrmxk_d"
      },
      "source": [
        "The Above algorithm converges in 3 epochs for the and gate, for Threshold value = 0.5\r\n",
        "\r\n",
        "---\r\n",
        "\r\n"
      ]
    },
    {
      "cell_type": "code",
      "metadata": {
        "colab": {
          "base_uri": "https://localhost:8080/"
        },
        "id": "0I3g5FtWFVQq",
        "outputId": "8671abd3-b8cd-48d4-bd78-6a2ff5cd5096"
      },
      "source": [
        "W_or,y_or=perceptron(X,OR,T=1.5)"
      ],
      "execution_count": null,
      "outputs": [
        {
          "output_type": "stream",
          "text": [
            "epoch 1\n",
            "Input   Y_Predectid Y_Actual Error\n",
            "[0 0]        0          0       0\n",
            "[0 1]        0          1       1\n",
            "[1 0]        0          1       1\n",
            "[1 1]        1          1       0\n",
            "epoch 2\n",
            "Input   Y_Predectid Y_Actual Error\n",
            "[0 0]        0          0       0\n",
            "[0 1]        0          1       1\n",
            "[1 0]        0          1       1\n",
            "[1 1]        1          1       0\n",
            "epoch 3\n",
            "Input   Y_Predectid Y_Actual Error\n",
            "[0 0]        0          0       0\n",
            "[0 1]        0          1       1\n",
            "[1 0]        1          1       0\n",
            "[1 1]        1          1       0\n",
            "epoch 4\n",
            "Input   Y_Predectid Y_Actual Error\n",
            "[0 0]        0          0       0\n",
            "[0 1]        1          1       0\n",
            "[1 0]        1          1       0\n",
            "[1 1]        1          1       0\n",
            "epoch 5\n",
            "Input   Y_Predectid Y_Actual Error\n",
            "[0 0]        0          0       0\n",
            "[0 1]        1          1       0\n",
            "[1 0]        1          1       0\n",
            "[1 1]        1          1       0\n"
          ],
          "name": "stdout"
        }
      ]
    },
    {
      "cell_type": "markdown",
      "metadata": {
        "id": "9ORw7R9Mx0NG"
      },
      "source": [
        "For 'OR GATE' the algorithm also converges in 3 epochs, for threshold =1.5\r\n",
        "\r\n",
        "---\r\n",
        "\r\n"
      ]
    },
    {
      "cell_type": "markdown",
      "metadata": {
        "id": "R0jQtXMc32VQ"
      },
      "source": [
        "Plots for AND gate"
      ]
    },
    {
      "cell_type": "code",
      "metadata": {
        "colab": {
          "base_uri": "https://localhost:8080/",
          "height": 987
        },
        "id": "T5yK8L1RM9gr",
        "outputId": "e3206416-f29d-4bab-9d75-878f436f516f"
      },
      "source": [
        "for i in range(5):\r\n",
        "  plot_data(X,AND,W_and[i],T=.5)"
      ],
      "execution_count": null,
      "outputs": [
        {
          "output_type": "display_data",
          "data": {
            "image/png": "[encoded data removed]",
            "text/plain": [
              "<Figure size 360x216 with 1 Axes>"
            ]
          },
          "metadata": {
            "tags": [],
            "needs_background": "light"
          }
        },
        {
          "output_type": "display_data",
          "data": {
            "image/png": "[encoded data removed]",
            "text/plain": [
              "<Figure size 360x216 with 1 Axes>"
            ]
          },
          "metadata": {
            "tags": [],
            "needs_background": "light"
          }
        },
        {
          "output_type": "display_data",
          "data": {
            "image/png": "[encoded data removed]",
            "text/plain": [
              "<Figure size 360x216 with 1 Axes>"
            ]
          },
          "metadata": {
            "tags": [],
            "needs_background": "light"
          }
        },
        {
          "output_type": "display_data",
          "data": {
            "image/png": "[encoded data removed]",
            "text/plain": [
              "<Figure size 360x216 with 1 Axes>"
            ]
          },
          "metadata": {
            "tags": [],
            "needs_background": "light"
          }
        },
        {
          "output_type": "display_data",
          "data": {
            "image/png": "[encoded data removed]",
            "text/plain": [
              "<Figure size 360x216 with 1 Axes>"
            ]
          },
          "metadata": {
            "tags": [],
            "needs_background": "light"
          }
        }
      ]
    },
    {
      "cell_type": "markdown",
      "metadata": {
        "id": "yfo6I_7O4sAI"
      },
      "source": [
        "Plots for OR GATE "
      ]
    },
    {
      "cell_type": "code",
      "metadata": {
        "colab": {
          "base_uri": "https://localhost:8080/",
          "height": 987
        },
        "id": "ZQX95hzv4fG_",
        "outputId": "5ff48373-e2b3-481f-b65a-cba4f816f7de"
      },
      "source": [
        "for i in range(5):\r\n",
        "  plot_data(X,OR,W_or[i],T=1.5)"
      ],
      "execution_count": null,
      "outputs": [
        {
          "output_type": "display_data",
          "data": {
            "image/png": "[encoded data removed]",
            "text/plain": [
              "<Figure size 360x216 with 1 Axes>"
            ]
          },
          "metadata": {
            "tags": [],
            "needs_background": "light"
          }
        },
        {
          "output_type": "display_data",
          "data": {
            "image/png": "[encoded data removed]",
            "text/plain": [
              "<Figure size 360x216 with 1 Axes>"
            ]
          },
          "metadata": {
            "tags": [],
            "needs_background": "light"
          }
        },
        {
          "output_type": "display_data",
          "data": {
            "image/png": "[encoded data removed]",
            "text/plain": [
              "<Figure size 360x216 with 1 Axes>"
            ]
          },
          "metadata": {
            "tags": [],
            "needs_background": "light"
          }
        },
        {
          "output_type": "display_data",
          "data": {
            "image/png": "[encoded data removed]",
            "text/plain": [
              "<Figure size 360x216 with 1 Axes>"
            ]
          },
          "metadata": {
            "tags": [],
            "needs_background": "light"
          }
        },
        {
          "output_type": "display_data",
          "data": {
            "image/png": "[encoded data removed]",
            "text/plain": [
              "<Figure size 360x216 with 1 Axes>"
            ]
          },
          "metadata": {
            "tags": [],
            "needs_background": "light"
          }
        }
      ]
    },
    {
      "cell_type": "code",
      "metadata": {
        "colab": {
          "base_uri": "https://localhost:8080/"
        },
        "id": "xI8G6PiA4y-P",
        "outputId": "daef2160-42d7-4a92-9158-67e3e698277d"
      },
      "source": [
        "W_XOR,y_XOR=perceptron(X,XOR,T=.5,epochs=15)"
      ],
      "execution_count": null,
      "outputs": [
        {
          "output_type": "stream",
          "text": [
            "epoch 1\n",
            "Input   Y_Predectid Y_Actual Error\n",
            "[0 0]        0          1       1\n",
            "[0 1]        1          0       1\n",
            "[1 0]        1          0       1\n",
            "[1 1]        1          1       0\n",
            "epoch 2\n",
            "Input   Y_Predectid Y_Actual Error\n",
            "[0 0]        0          1       1\n",
            "[0 1]        1          0       1\n",
            "[1 0]        1          0       1\n",
            "[1 1]        1          1       0\n",
            "epoch 3\n",
            "Input   Y_Predectid Y_Actual Error\n",
            "[0 0]        0          1       1\n",
            "[0 1]        1          0       1\n",
            "[1 0]        1          0       1\n",
            "[1 1]        1          1       0\n",
            "epoch 4\n",
            "Input   Y_Predectid Y_Actual Error\n",
            "[0 0]        0          1       1\n",
            "[0 1]        1          0       1\n",
            "[1 0]        1          0       1\n",
            "[1 1]        1          1       0\n",
            "epoch 5\n",
            "Input   Y_Predectid Y_Actual Error\n",
            "[0 0]        0          1       1\n",
            "[0 1]        1          0       1\n",
            "[1 0]        1          0       1\n",
            "[1 1]        1          1       0\n",
            "epoch 6\n",
            "Input   Y_Predectid Y_Actual Error\n",
            "[0 0]        0          1       1\n",
            "[0 1]        1          0       1\n",
            "[1 0]        1          0       1\n",
            "[1 1]        1          1       0\n",
            "epoch 7\n",
            "Input   Y_Predectid Y_Actual Error\n",
            "[0 0]        0          1       1\n",
            "[0 1]        1          0       1\n",
            "[1 0]        0          0       0\n",
            "[1 1]        1          1       0\n",
            "epoch 8\n",
            "Input   Y_Predectid Y_Actual Error\n",
            "[0 0]        0          1       1\n",
            "[0 1]        1          0       1\n",
            "[1 0]        0          0       0\n",
            "[1 1]        1          1       0\n",
            "epoch 9\n",
            "Input   Y_Predectid Y_Actual Error\n",
            "[0 0]        0          1       1\n",
            "[0 1]        1          0       1\n",
            "[1 0]        0          0       0\n",
            "[1 1]        1          1       0\n",
            "epoch 10\n",
            "Input   Y_Predectid Y_Actual Error\n",
            "[0 0]        0          1       1\n",
            "[0 1]        1          0       1\n",
            "[1 0]        0          0       0\n",
            "[1 1]        1          1       0\n",
            "epoch 11\n",
            "Input   Y_Predectid Y_Actual Error\n",
            "[0 0]        0          1       1\n",
            "[0 1]        1          0       1\n",
            "[1 0]        0          0       0\n",
            "[1 1]        1          1       0\n",
            "epoch 12\n",
            "Input   Y_Predectid Y_Actual Error\n",
            "[0 0]        0          1       1\n",
            "[0 1]        1          0       1\n",
            "[1 0]        0          0       0\n",
            "[1 1]        1          1       0\n",
            "epoch 13\n",
            "Input   Y_Predectid Y_Actual Error\n",
            "[0 0]        0          1       1\n",
            "[0 1]        1          0       1\n",
            "[1 0]        0          0       0\n",
            "[1 1]        1          1       0\n",
            "epoch 14\n",
            "Input   Y_Predectid Y_Actual Error\n",
            "[0 0]        0          1       1\n",
            "[0 1]        1          0       1\n",
            "[1 0]        0          0       0\n",
            "[1 1]        1          1       0\n",
            "epoch 15\n",
            "Input   Y_Predectid Y_Actual Error\n",
            "[0 0]        0          1       1\n",
            "[0 1]        1          0       1\n",
            "[1 0]        0          0       0\n",
            "[1 1]        1          1       0\n"
          ],
          "name": "stdout"
        }
      ]
    },
    {
      "cell_type": "markdown",
      "metadata": {
        "id": "xSTTD9G65sKA"
      },
      "source": [
        "We can see the error is acually increasing in 8 epochs(it would oscillate for more epochs), hence it won't converge for XOR gate, and according to Perceptron convergence algorithm it should converge in 0 epochs. "
      ]
    },
    {
      "cell_type": "code",
      "metadata": {
        "id": "Bt_77vJ18fgS"
      },
      "source": [
        "def perceptron_not(x,y,w=1,T=0.5,lr=0.1,epochs=5):  \r\n",
        "  W=[]\r\n",
        "  Y=[]\r\n",
        "  for j in range(epochs):\r\n",
        "   W=np.append(W,w)\r\n",
        "   print('epoch',j+1)\r\n",
        "   print('Input  ','Y_Predectid','Y_Actual','Error')\r\n",
        "   \r\n",
        "   for x_i,y_i in zip(x,y):     \r\n",
        "     if (w*x_i - T) < 0:\r\n",
        "       y_pred=0\r\n",
        "     else:\r\n",
        "       y_pred=1 \r\n",
        "\r\n",
        "     error= y_i-y_pred\r\n",
        "     print(x_i,' '*(len('Y_Predectid')-5),y_pred,' '*(len('Y_Actual')),y_i,' '*(len('Error')),abs(error))\r\n",
        "     w=  w  +   lr*error\r\n",
        "     print(w)\r\n",
        "     Y=np.append(Y,y_pred)\r\n",
        "\r\n",
        "  return W.reshape(epochs,1),Y.reshape(epochs,2)"
      ],
      "execution_count": null,
      "outputs": []
    },
    {
      "cell_type": "code",
      "metadata": {
        "colab": {
          "base_uri": "https://localhost:8080/"
        },
        "id": "cOVVxsgJ6Wr4",
        "outputId": "0fd6bde9-6276-4060-e0b5-3cc3dae51d7c"
      },
      "source": [
        "x=np.array([0,1])\r\n",
        "NOT=np.array([1,0])\r\n",
        "W_NOT,y_NOT=perceptron_not(x,NOT,w,T=0,epochs=5,lr=1)"
      ],
      "execution_count": null,
      "outputs": [
        {
          "output_type": "stream",
          "text": [
            "epoch 1\n",
            "Input   Y_Predectid Y_Actual Error\n",
            "0        1          1       0\n",
            "[1]\n",
            "1        1          0       1\n",
            "[0]\n",
            "epoch 2\n",
            "Input   Y_Predectid Y_Actual Error\n",
            "0        1          1       0\n",
            "[0]\n",
            "1        1          0       1\n",
            "[-1]\n",
            "epoch 3\n",
            "Input   Y_Predectid Y_Actual Error\n",
            "0        1          1       0\n",
            "[-1]\n",
            "1        0          0       0\n",
            "[-1]\n",
            "epoch 4\n",
            "Input   Y_Predectid Y_Actual Error\n",
            "0        1          1       0\n",
            "[-1]\n",
            "1        0          0       0\n",
            "[-1]\n",
            "epoch 5\n",
            "Input   Y_Predectid Y_Actual Error\n",
            "0        1          1       0\n",
            "[-1]\n",
            "1        0          0       0\n",
            "[-1]\n"
          ],
          "name": "stdout"
        }
      ]
    },
    {
      "cell_type": "markdown",
      "metadata": {
        "id": "M-qyYb9hOaZj"
      },
      "source": [
        "For not gate the algorithm converges in 2 epoches with a learning rate of 1 and threshold value of 0"
      ]
    },
    {
      "cell_type": "code",
      "metadata": {
        "colab": {
          "base_uri": "https://localhost:8080/"
        },
        "id": "gXwZIs-3TnzV",
        "outputId": "779745d2-f02b-4d3d-df45-9471a238f742"
      },
      "source": [
        "W_or"
      ],
      "execution_count": null,
      "outputs": [
        {
          "output_type": "execute_result",
          "data": {
            "text/plain": [
              "array([[1. , 1. ],\n",
              "       [1.2, 1.2],\n",
              "       [1.4, 1.4],\n",
              "       [1.5, 1.5],\n",
              "       [1.5, 1.5]])"
            ]
          },
          "metadata": {
            "tags": []
          },
          "execution_count": 96
        }
      ]
    }
  ]
}